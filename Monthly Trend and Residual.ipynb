{
 "cells": [
  {
   "cell_type": "markdown",
   "metadata": {},
   "source": [
    "# Monthly Trend and Residual"
   ]
  },
  {
   "cell_type": "code",
   "execution_count": 1,
   "metadata": {},
   "outputs": [],
   "source": [
    "import pandas as pd\n",
    "import numpy as np\n",
    "\n",
    "import matplotlib.pyplot as plt\n",
    "import seaborn as sns\n",
    "%matplotlib inline\n",
    "plt.style.use('bmh')\n",
    "\n",
    "from sklearn.preprocessing import StandardScaler\n",
    "from sklearn.linear_model import LinearRegression, LogisticRegression\n",
    "from sklearn.ensemble import RandomForestRegressor, RandomForestClassifier\n",
    "from sklearn.model_selection import GridSearchCV\n",
    "\n",
    "from sklearn.metrics import mean_absolute_error"
   ]
  },
  {
   "cell_type": "code",
   "execution_count": 2,
   "metadata": {},
   "outputs": [],
   "source": [
    "# read in pickled features\n",
    "df_sj = pd.read_pickle('./datasets/all_sj.pkl')\n",
    "df_iq = pd.read_pickle('./datasets/all_iq.pkl')\n",
    "\n",
    "total_cases = pd.read_csv('./datasets/dengue_labels_train.csv')\n",
    "cases_sj = total_cases[total_cases['city'] == 'sj']['total_cases']\n",
    "cases_iq = total_cases[total_cases['city'] == 'iq']['total_cases']\n",
    "\n",
    "# create month variable\n",
    "df_sj['month'] = df_sj.index.month\n",
    "df_iq['month'] = df_iq.index.month\n",
    "\n",
    "# create mean ndvi\n",
    "df_sj['ndvi_mean'] = (df_sj['ndvi_ne'] + df_sj['ndvi_nw'] + df_sj['ndvi_se'] + df_sj['ndvi_sw']) / 4.0\n",
    "df_iq['ndvi_mean'] = (df_iq['ndvi_ne'] + df_iq['ndvi_nw'] + df_iq['ndvi_se'] + df_iq['ndvi_sw']) / 4.0"
   ]
  },
  {
   "cell_type": "markdown",
   "metadata": {},
   "source": [
    "## Train-Validation-Test Split"
   ]
  },
  {
   "cell_type": "code",
   "execution_count": 3,
   "metadata": {},
   "outputs": [
    {
     "name": "stdout",
     "output_type": "stream",
     "text": [
      "675 675 675\n",
      "261 261 261\n",
      "260 260\n"
     ]
    }
   ],
   "source": [
    "# train test split\n",
    "#sj\n",
    "\n",
    "# choose split dates\n",
    "sj_valid_split = '2003-4-20'\n",
    "sj_test_split = '2008-4-27' # this will split between pre and post submission dates\n",
    "\n",
    "# split into train, valid, test (no y)\n",
    "sj_train = df_sj.loc[:sj_valid_split]\n",
    "sj_Xtrain = sj_train\n",
    "sj_ytrain = cases_sj[:len(sj_train)]\n",
    "\n",
    "sj_valid = df_sj.loc[sj_valid_split : sj_test_split]\n",
    "sj_Xvalid = sj_valid\n",
    "sj_yvalid = cases_sj[len(sj_train):]\n",
    "\n",
    "sj_test = df_sj.loc[sj_test_split:]\n",
    "sj_Xtest = sj_test\n",
    "\n",
    "print(len(sj_train), len(sj_Xtrain), len(sj_ytrain))\n",
    "print(len(sj_valid), len(sj_Xvalid), len(sj_yvalid))\n",
    "print(len(sj_test), len(sj_Xtest))"
   ]
  },
  {
   "cell_type": "code",
   "execution_count": 4,
   "metadata": {},
   "outputs": [
    {
     "name": "stdout",
     "output_type": "stream",
     "text": [
      "364 364 364\n",
      "156 156 156\n",
      "156 156\n"
     ]
    }
   ],
   "source": [
    "#iq\n",
    "\n",
    "# choose split dates\n",
    "iq_valid_split = '2007-7-01'\n",
    "iq_test_split = '2010-7-01' # this will split between pre and post submission dates\n",
    "\n",
    "# split\n",
    "iq_train = df_iq.loc[:iq_valid_split]\n",
    "iq_Xtrain = iq_train\n",
    "iq_ytrain = cases_iq[:len(iq_Xtrain)]\n",
    "\n",
    "iq_valid = df_iq.loc[iq_valid_split : iq_test_split]\n",
    "iq_Xvalid = iq_valid\n",
    "iq_yvalid = cases_iq[len(iq_train):]\n",
    "\n",
    "iq_test = df_iq.loc[iq_test_split:]\n",
    "iq_Xtest = iq_test\n",
    "\n",
    "# check the lengths\n",
    "print(len(iq_train), len(iq_Xtrain), len(iq_ytrain))\n",
    "print(len(iq_valid), len(iq_Xvalid), len(iq_yvalid))\n",
    "print(len(iq_test), len(iq_Xtest))"
   ]
  },
  {
   "cell_type": "markdown",
   "metadata": {},
   "source": [
    "## SJ"
   ]
  },
  {
   "cell_type": "code",
   "execution_count": 5,
   "metadata": {
    "scrolled": true
   },
   "outputs": [
    {
     "name": "stdout",
     "output_type": "stream",
     "text": [
      "675 675\n",
      "261 261\n"
     ]
    }
   ],
   "source": [
    "print(len(pd.get_dummies(sj_Xtrain['month'], prefix='month')), len(sj_ytrain.values))\n",
    "print(len(pd.get_dummies(sj_Xvalid['month'], prefix='month')), len(sj_yvalid.values))"
   ]
  },
  {
   "cell_type": "code",
   "execution_count": 7,
   "metadata": {},
   "outputs": [],
   "source": [
    "# sj monthly trend\n",
    "\n",
    "lr_sj = LinearRegression()\n",
    "X = pd.get_dummies(sj_Xtrain['month'], prefix='month')\n",
    "y = sj_ytrain.values\n",
    "\n",
    "lr_sj.fit(X, y)\n",
    "monthly_trend_train = pd.Series(lr_sj.predict(X)).rolling(3, min_periods = 1).mean()\n",
    "sj_residuals_train = y - monthly_trend_train\n",
    "\n",
    "\n",
    "# on validation data\n",
    "# note: monthly trend does not need previous weeks data, so this can use the validation set\n",
    "Xtest = pd.get_dummies(sj_Xvalid['month'], prefix='month')\n",
    "ytest = sj_yvalid.values\n",
    "monthly_trend_valid = pd.Series(lr_sj.predict(Xtest)).rolling(3, min_periods=1).mean()\n",
    "sj_residuals_test = ytest - monthly_trend_valid"
   ]
  },
  {
   "cell_type": "markdown",
   "metadata": {},
   "source": [
    "## Test on valid from grid search results\n",
    "use values from 3 tables above"
   ]
  },
  {
   "cell_type": "code",
   "execution_count": 9,
   "metadata": {
    "scrolled": true
   },
   "outputs": [
    {
     "name": "stdout",
     "output_type": "stream",
     "text": [
      "615 615\n",
      "201 201\n"
     ]
    }
   ],
   "source": [
    "# munge data\n",
    "\n",
    "# max roll back set to 59\n",
    "\n",
    "# rolling means df\n",
    "Xtrain_means1 = df_sj['station_avg_temp_c'].rolling(window = 52).mean()[60:675]\n",
    "Xtrain_means2 = df_sj['ndvi_se'].rolling(window = 10).mean()[60:675]\n",
    "\n",
    "# combine all dfs\n",
    "Xtrain = pd.concat([Xtrain_means1], axis = 1)\n",
    "ytrain = sj_residuals_train[60:]\n",
    "\n",
    "print(len(Xtrain), len(ytrain))\n",
    "\n",
    "# rolling means df\n",
    "Xvalid_means1 = df_sj['station_avg_temp_c'].rolling(window = 53).mean()[675:936]\n",
    "Xvalid_means2 = df_sj['ndvi_se'].rolling(window = 10).mean()[675:936]\n",
    "\n",
    "# combine all dfs\n",
    "Xvalid = pd.concat([Xvalid_means1], axis = 1)[60:]\n",
    "yvalid = sj_residuals_test[60:]\n",
    "\n",
    "print(len(Xvalid), len(yvalid))\n",
    "\n",
    "# fit on model, predict\n",
    "lr_sj_residual = LinearRegression()\n",
    "lr_sj_residual.fit(Xtrain, ytrain)\n",
    "\n",
    "sj_valid_preds = lr_sj_residual.predict(Xvalid)"
   ]
  },
  {
   "cell_type": "markdown",
   "metadata": {},
   "source": [
    "## IQ"
   ]
  },
  {
   "cell_type": "code",
   "execution_count": 9,
   "metadata": {},
   "outputs": [
    {
     "name": "stdout",
     "output_type": "stream",
     "text": [
      "364 364\n",
      "156 156\n"
     ]
    }
   ],
   "source": [
    "print(len(pd.get_dummies(iq_Xtrain['month'], prefix='month')), len(iq_ytrain.values))\n",
    "print(len(pd.get_dummies(iq_Xvalid['month'], prefix='month')), len(iq_yvalid.values))"
   ]
  },
  {
   "cell_type": "code",
   "execution_count": 10,
   "metadata": {},
   "outputs": [],
   "source": [
    "# iq monthly trend\n",
    "\n",
    "lr_iq = LinearRegression()\n",
    "X = pd.get_dummies(iq_Xtrain['month'], prefix='month')\n",
    "y = iq_ytrain.values\n",
    "\n",
    "lr_iq.fit(X, y)\n",
    "monthly_trend_train = pd.Series(lr_iq.predict(X)).rolling(9, min_periods = 1).mean()\n",
    "iq_residuals_train = y - monthly_trend_train\n",
    "\n",
    "\n",
    "# on validation data\n",
    "# note: monthly trend does not need previous weeks data, so this can use the validation set\n",
    "Xtest = pd.get_dummies(iq_Xvalid['month'], prefix='month')\n",
    "ytest = iq_yvalid.values\n",
    "monthly_trend_valid = pd.Series(lr_iq.predict(Xtest)).rolling(9, min_periods=1).mean()\n",
    "iq_residuals_test = ytest - monthly_trend_valid"
   ]
  },
  {
   "cell_type": "markdown",
   "metadata": {},
   "source": [
    "## Residual prediction based on rolling weather features"
   ]
  },
  {
   "cell_type": "code",
   "execution_count": 11,
   "metadata": {},
   "outputs": [
    {
     "data": {
      "text/plain": [
       "615"
      ]
     },
     "execution_count": 11,
     "metadata": {},
     "output_type": "execute_result"
    }
   ],
   "source": [
    "len(Xtrain)\n",
    "len(ytrain)"
   ]
  },
  {
   "cell_type": "code",
   "execution_count": 12,
   "metadata": {},
   "outputs": [
    {
     "name": "stdout",
     "output_type": "stream",
     "text": [
      "304 304\n",
      "96 96\n"
     ]
    }
   ],
   "source": [
    "# rolling mean of feature to predict residuals\n",
    "\n",
    "# munge data\n",
    "\n",
    "# max roll back set to 59\n",
    "\n",
    "# set up training data\n",
    "# rolling means df\n",
    "Xtrain_means1 = df_iq['station_avg_temp_c'].rolling(window = 53).mean()[60:364]\n",
    "\n",
    "# combine all dfs\n",
    "Xtrain = pd.concat([Xtrain_means1], axis = 1)\n",
    "ytrain = iq_residuals_train[60:]\n",
    "\n",
    "print(len(Xtrain), len(ytrain))\n",
    "\n",
    "# set up validation data\n",
    "# rolling means df\n",
    "Xvalid_means1 = df_iq['station_avg_temp_c'].rolling(window = 53).mean()[364:520]\n",
    "\n",
    "# combine all dfs\n",
    "Xvalid = pd.concat([Xvalid_means1], axis = 1)[60:]\n",
    "yvalid = iq_residuals_test[60:]\n",
    "\n",
    "print(len(Xvalid), len(yvalid))\n",
    "\n",
    "# model it!\n",
    "\n",
    "lr_iq_resids = LinearRegression()\n",
    "lr_iq_resids.fit(Xtrain, ytrain)\n",
    "\n",
    "iq_valid_preds = lr_iq_resids.predict(Xvalid)"
   ]
  },
  {
   "cell_type": "markdown",
   "metadata": {},
   "source": [
    "## USE TEST DATA, MAKE CSV OF SUBMISSIONS"
   ]
  },
  {
   "cell_type": "code",
   "execution_count": 14,
   "metadata": {},
   "outputs": [],
   "source": [
    "# transform sj data\n",
    "\n",
    "month_dums = pd.get_dummies(df_sj['month'], prefix='month')\n",
    "temp_roll_means = pd.DataFrame(df_sj[['station_avg_temp_c']].rolling(window = 55).mean())\n",
    "\n",
    "# combine into test set\n",
    "Xtest = pd.concat([month_dums, temp_roll_means], axis = 1)\n",
    "\n",
    "# train model\n",
    "lr_sj_full = LinearRegression()\n",
    "lr_sj_full.fit(Xtest[60:-260], cases_sj.values[60:])\n",
    "\n",
    "# predicts\n",
    "sj_full_preds = lr_sj_full.predict(Xtest[55:])\n",
    "sj_submit_preds = sj_full_preds[-260:]"
   ]
  },
  {
   "cell_type": "code",
   "execution_count": 15,
   "metadata": {},
   "outputs": [],
   "source": [
    "# transform iq data\n",
    "month_dums = pd.get_dummies(df_iq['month'], prefix='month')\n",
    "temp_roll_means = pd.DataFrame(df_iq[['ndvi_nw']].rolling(window = 68).mean())\n",
    "# temp_roll_std = pd.DataFrame(df_iq[['station_avg_temp_c', 'precipitation_amt_mm']].rolling(window = 8).mean())\n",
    "\n",
    "# combine into test\n",
    "Xtest = pd.concat([month_dums, temp_roll_means], axis = 1)\n",
    "\n",
    "# train\n",
    "lr_iq_full = LinearRegression()\n",
    "lr_iq_full.fit(Xtest[68:-156], cases_iq.values[68:])\n",
    "\n",
    "# predicts\n",
    "iq_full_preds = lr_iq_full.predict(Xtest[68:])\n",
    "iq_submit_preds = iq_full_preds[-156:]"
   ]
  },
  {
   "cell_type": "code",
   "execution_count": 16,
   "metadata": {},
   "outputs": [],
   "source": [
    "total_preds = list(sj_submit_preds) + list(iq_submit_preds)"
   ]
  },
  {
   "cell_type": "markdown",
   "metadata": {},
   "source": [
    "### make csv"
   ]
  },
  {
   "cell_type": "code",
   "execution_count": 21,
   "metadata": {},
   "outputs": [],
   "source": [
    "# submission\n",
    "submission_format = pd.read_csv('./datasets/submission_format.csv')"
   ]
  },
  {
   "cell_type": "code",
   "execution_count": 22,
   "metadata": {},
   "outputs": [],
   "source": [
    "submission_format['total_cases'] = total_preds\n",
    "submission_format['total_cases'] = submission_format['total_cases'].apply(lambda x: int(x))"
   ]
  },
  {
   "cell_type": "code",
   "execution_count": 23,
   "metadata": {},
   "outputs": [],
   "source": [
    "# Save to CSV, use current date\n",
    "# submission_format.to_csv('submissions/dengue_submission_9_12_17v1.csv', index=False)"
   ]
  },
  {
   "cell_type": "markdown",
   "metadata": {},
   "source": [
    "## Predict the residual and adding to monthly trend"
   ]
  },
  {
   "cell_type": "markdown",
   "metadata": {},
   "source": [
    "### San Juan"
   ]
  },
  {
   "cell_type": "code",
   "execution_count": 17,
   "metadata": {},
   "outputs": [
    {
     "data": {
      "text/plain": [
       "LinearRegression(copy_X=True, fit_intercept=True, n_jobs=1, normalize=False)"
      ]
     },
     "execution_count": 17,
     "metadata": {},
     "output_type": "execute_result"
    }
   ],
   "source": [
    "# get monthly trend of whole test df\n",
    "lr_sj_month = LinearRegression()\n",
    "X_months = pd.get_dummies(df_sj['month'], prefix='month')[:936]\n",
    "Xtest_months = pd.get_dummies(df_sj['month'], prefix='month')[936:]\n",
    "y = cases_sj.values\n",
    "\n",
    "lr_sj_month.fit(X_months, y)\n",
    "monthly_trend = pd.Series(lr_sj_month.predict(X_months)).rolling(3, min_periods=1).mean()\n",
    "sj_residuals_all = y - monthly_trend\n",
    "\n",
    "# create test df of rolling weather stats\n",
    "# rolling means df\n",
    "Xtrain_means1 = df_sj['station_avg_temp_c'].rolling(window = 53).mean()[60:936]\n",
    "Xtrain_means2 = df_sj['ndvi_se'].rolling(window = 25).mean()[60:936]\n",
    "\n",
    "# combine all dfs\n",
    "Xtrain = pd.concat([Xtrain_means1], axis = 1)\n",
    "ytrain = sj_residuals_all[60:]\n",
    "\n",
    "\n",
    "# create test df on rolling weather stats\n",
    "# rolling means df\n",
    "Xtest_means1 = df_sj['station_avg_temp_c'].rolling(window = 53).mean()[936:]\n",
    "Xtest_means2 = df_sj['ndvi_se'].rolling(window = 25).mean()[936:]\n",
    "\n",
    "# combine all dfs\n",
    "Xtest_weather = pd.concat([Xtest_means1], axis = 1)\n",
    "\n",
    "# fit on model\n",
    "lr_sj_resid = LinearRegression()\n",
    "lr_sj_resid.fit(Xtrain, ytrain)"
   ]
  },
  {
   "cell_type": "code",
   "execution_count": 18,
   "metadata": {},
   "outputs": [],
   "source": [
    "# make predictions on monthly data and residual data\n",
    "sj_monthly_preds = pd.Series(lr_sj_month.predict(Xtest_months)).rolling(3, min_periods=1).mean()\n",
    "sj_resid_preds = lr_sj_resid.predict(Xtest_weather)\n",
    "sj_cases_pred = pd.Series(sj_resid_preds + sj_monthly_preds).rolling(1, min_periods=1).mean()\n",
    "sj_cases_pred = sj_cases_pred.apply(lambda x: 1 if x < 1 else int(x))"
   ]
  },
  {
   "cell_type": "code",
   "execution_count": 20,
   "metadata": {},
   "outputs": [],
   "source": [
    "### make plot of best model predictions and actual cases over all time period for sj\n",
    "\n",
    "# monthly trend\n",
    "sj_month_preds = lr_sj_month.predict(pd.get_dummies(df_sj['month'], prefix='month'))\n",
    "# predicted residuals\n",
    "weather1 = df_sj[['station_avg_temp_c']].rolling(window=53, min_periods=1).mean()\n",
    "weather2 = df_sj[['ndvi_se']].rolling(window=10, min_periods=1).mean()\n",
    "weather_all = pd.concat([weather2], axis = 1)\n",
    "sj_resid_predicts = lr_sj_resid.predict(weather_all)\n",
    "# monthly + residuals\n",
    "pred_cases = pd.Series(sj_month_preds + sj_resid_predicts)\n",
    "pred_cases = pred_cases.apply(lambda x: 0 if x < 1 else x)"
   ]
  },
  {
   "cell_type": "markdown",
   "metadata": {},
   "source": [
    "### Iquitos"
   ]
  },
  {
   "cell_type": "code",
   "execution_count": 21,
   "metadata": {},
   "outputs": [
    {
     "data": {
      "text/plain": [
       "520"
      ]
     },
     "execution_count": 21,
     "metadata": {},
     "output_type": "execute_result"
    }
   ],
   "source": [
    "len(cases_iq)"
   ]
  },
  {
   "cell_type": "code",
   "execution_count": 22,
   "metadata": {},
   "outputs": [
    {
     "data": {
      "text/plain": [
       "LinearRegression(copy_X=True, fit_intercept=True, n_jobs=1, normalize=False)"
      ]
     },
     "execution_count": 22,
     "metadata": {},
     "output_type": "execute_result"
    }
   ],
   "source": [
    "# get monthly trend of whole test df\n",
    "lr_iq_month = LinearRegression()\n",
    "X_months = pd.get_dummies(df_iq['month'], prefix='month')[:520]\n",
    "Xtest_months = pd.get_dummies(df_iq['month'], prefix='month')[520:]\n",
    "y = cases_iq.values\n",
    "\n",
    "lr_iq_month.fit(X_months, y)\n",
    "monthly_trend = pd.Series(lr_iq_month.predict(X_months)).rolling(8, min_periods=1).mean()\n",
    "iq_residuals_all = y - monthly_trend\n",
    "\n",
    "# create test df of rolling weather stats\n",
    "# rolling means df\n",
    "Xtrain_means1 = df_iq['station_avg_temp_c'].rolling(window = 53).mean()[60:520]\n",
    "\n",
    "# combine all dfs\n",
    "Xtrain = pd.concat([Xtrain_means1], axis = 1)\n",
    "ytrain = iq_residuals_all[60:]\n",
    "\n",
    "\n",
    "# create test df on rolling weather stats\n",
    "# rolling means df\n",
    "Xtest_means1 = df_iq['station_avg_temp_c'].rolling(window = 53).mean()[520:]\n",
    "\n",
    "# combine all dfs\n",
    "Xtest_weather = pd.concat([Xtest_means1], axis = 1)\n",
    "\n",
    "# fit on model\n",
    "lr_iq_resid = LinearRegression()\n",
    "lr_iq_resid.fit(Xtrain, ytrain)"
   ]
  },
  {
   "cell_type": "code",
   "execution_count": 23,
   "metadata": {},
   "outputs": [],
   "source": [
    "# make predictions on monthly data and residual data\n",
    "iq_monthly_preds = pd.Series(lr_iq_month.predict(Xtest_months)).rolling(8, min_periods=1).mean()\n",
    "iq_resid_preds = lr_iq_resid.predict(Xtest_weather)\n",
    "iq_cases_pred = pd.Series(iq_monthly_preds + iq_resid_preds)\n",
    "iq_cases_pred = iq_cases_pred.apply(lambda x: 0 if x < 1 else int(x))"
   ]
  },
  {
   "cell_type": "code",
   "execution_count": 24,
   "metadata": {},
   "outputs": [],
   "source": [
    "### make plot of best model predictions and actual cases over all time period for iq\n",
    "\n",
    "# monthly trend\n",
    "iq_month_preds = lr_iq_month.predict(pd.get_dummies(df_iq['month'], prefix='month'))\n",
    "# predicted residuals\n",
    "weather1 = df_iq[['station_avg_temp_c']].rolling(window=53, min_periods=1).mean()\n",
    "weather2 = df_iq[['ndvi_se']].rolling(window=10, min_periods=1).mean()\n",
    "weather_all = pd.concat([weather1], axis = 1)\n",
    "iq_resid_predicts = lr_iq_resid.predict(weather_all)\n",
    "# monthly + residuals\n",
    "pred_cases = pd.Series(iq_month_preds + iq_resid_predicts)\n",
    "pred_cases = pred_cases.apply(lambda x: 0 if x < 1 else x)"
   ]
  },
  {
   "cell_type": "markdown",
   "metadata": {},
   "source": [
    "### make csv"
   ]
  },
  {
   "cell_type": "code",
   "execution_count": 25,
   "metadata": {},
   "outputs": [],
   "source": [
    "total_preds = list(sj_cases_pred) + list(iq_cases_pred)"
   ]
  },
  {
   "cell_type": "code",
   "execution_count": 26,
   "metadata": {},
   "outputs": [],
   "source": [
    "# submission\n",
    "submission_format = pd.read_csv('./datasets/submission_format.csv')"
   ]
  },
  {
   "cell_type": "code",
   "execution_count": 27,
   "metadata": {},
   "outputs": [],
   "source": [
    "submission_format['total_cases'] = total_preds\n",
    "submission_format['total_cases'] = submission_format['total_cases'].apply(lambda x: int(x))"
   ]
  },
  {
   "cell_type": "code",
   "execution_count": 28,
   "metadata": {},
   "outputs": [],
   "source": [
    "# Save to CSV, use current date\n",
    "submission_format.to_csv('submissions/submission-3.csv', index=False)"
   ]
  },
  {
   "cell_type": "code",
   "execution_count": 29,
   "metadata": {},
   "outputs": [
    {
     "data": {
      "text/html": [
       "<div>\n",
       "<style scoped>\n",
       "    .dataframe tbody tr th:only-of-type {\n",
       "        vertical-align: middle;\n",
       "    }\n",
       "\n",
       "    .dataframe tbody tr th {\n",
       "        vertical-align: top;\n",
       "    }\n",
       "\n",
       "    .dataframe thead th {\n",
       "        text-align: right;\n",
       "    }\n",
       "</style>\n",
       "<table border=\"1\" class=\"dataframe\">\n",
       "  <thead>\n",
       "    <tr style=\"text-align: right;\">\n",
       "      <th></th>\n",
       "      <th>city</th>\n",
       "      <th>year</th>\n",
       "      <th>weekofyear</th>\n",
       "      <th>total_cases</th>\n",
       "    </tr>\n",
       "  </thead>\n",
       "  <tbody>\n",
       "    <tr>\n",
       "      <th>0</th>\n",
       "      <td>sj</td>\n",
       "      <td>2008</td>\n",
       "      <td>18</td>\n",
       "      <td>6</td>\n",
       "    </tr>\n",
       "    <tr>\n",
       "      <th>1</th>\n",
       "      <td>sj</td>\n",
       "      <td>2008</td>\n",
       "      <td>19</td>\n",
       "      <td>7</td>\n",
       "    </tr>\n",
       "    <tr>\n",
       "      <th>2</th>\n",
       "      <td>sj</td>\n",
       "      <td>2008</td>\n",
       "      <td>20</td>\n",
       "      <td>8</td>\n",
       "    </tr>\n",
       "    <tr>\n",
       "      <th>3</th>\n",
       "      <td>sj</td>\n",
       "      <td>2008</td>\n",
       "      <td>21</td>\n",
       "      <td>7</td>\n",
       "    </tr>\n",
       "    <tr>\n",
       "      <th>4</th>\n",
       "      <td>sj</td>\n",
       "      <td>2008</td>\n",
       "      <td>22</td>\n",
       "      <td>6</td>\n",
       "    </tr>\n",
       "  </tbody>\n",
       "</table>\n",
       "</div>"
      ],
      "text/plain": [
       "  city  year  weekofyear  total_cases\n",
       "0   sj  2008          18            6\n",
       "1   sj  2008          19            7\n",
       "2   sj  2008          20            8\n",
       "3   sj  2008          21            7\n",
       "4   sj  2008          22            6"
      ]
     },
     "execution_count": 29,
     "metadata": {},
     "output_type": "execute_result"
    }
   ],
   "source": [
    "submission_format.head()"
   ]
  },
  {
   "cell_type": "code",
   "execution_count": null,
   "metadata": {},
   "outputs": [],
   "source": []
  }
 ],
 "metadata": {
  "kernelspec": {
   "display_name": "Python [default]",
   "language": "python",
   "name": "python3"
  },
  "language_info": {
   "codemirror_mode": {
    "name": "ipython",
    "version": 3
   },
   "file_extension": ".py",
   "mimetype": "text/x-python",
   "name": "python",
   "nbconvert_exporter": "python",
   "pygments_lexer": "ipython3",
   "version": "3.6.5"
  }
 },
 "nbformat": 4,
 "nbformat_minor": 2
}
